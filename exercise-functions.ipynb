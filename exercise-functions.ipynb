{
 "cells": [
  {
   "cell_type": "markdown",
   "id": "2523d490",
   "metadata": {
    "papermill": {
     "duration": 0.004132,
     "end_time": "2025-02-25T21:44:39.679519",
     "exception": false,
     "start_time": "2025-02-25T21:44:39.675387",
     "status": "completed"
    },
    "tags": []
   },
   "source": [
    "**This notebook is an exercise in the [Intro to Programming](https://www.kaggle.com/learn/intro-to-programming) course.  You can reference the tutorial at [this link](https://www.kaggle.com/alexisbcook/functions).**\n",
    "\n",
    "---\n"
   ]
  },
  {
   "cell_type": "markdown",
   "id": "36a7f9af",
   "metadata": {
    "papermill": {
     "duration": 0.003078,
     "end_time": "2025-02-25T21:44:39.685990",
     "exception": false,
     "start_time": "2025-02-25T21:44:39.682912",
     "status": "completed"
    },
    "tags": []
   },
   "source": [
    "In the tutorial, you learned about functions. In this exercise, you'll write some of your own!\n",
    "\n",
    "# Set up the notebook\n",
    "\n",
    "Run the next code cell without changes to set up the notebook."
   ]
  },
  {
   "cell_type": "code",
   "execution_count": 1,
   "id": "a674bc4f",
   "metadata": {
    "execution": {
     "iopub.execute_input": "2025-02-25T21:44:39.694568Z",
     "iopub.status.busy": "2025-02-25T21:44:39.694188Z",
     "iopub.status.idle": "2025-02-25T21:44:40.729235Z",
     "shell.execute_reply": "2025-02-25T21:44:40.728254Z"
    },
    "papermill": {
     "duration": 1.041686,
     "end_time": "2025-02-25T21:44:40.730842",
     "exception": false,
     "start_time": "2025-02-25T21:44:39.689156",
     "status": "completed"
    },
    "tags": []
   },
   "outputs": [
    {
     "name": "stdout",
     "output_type": "stream",
     "text": [
      "Setup complete.\n"
     ]
    }
   ],
   "source": [
    "# Set up the exercise\n",
    "import math\n",
    "from learntools.core import binder\n",
    "binder.bind(globals())\n",
    "from learntools.intro_to_programming.ex2 import *\n",
    "print('Setup complete.')"
   ]
  },
  {
   "cell_type": "markdown",
   "id": "725fee1a",
   "metadata": {
    "papermill": {
     "duration": 0.003128,
     "end_time": "2025-02-25T21:44:40.737912",
     "exception": false,
     "start_time": "2025-02-25T21:44:40.734784",
     "status": "completed"
    },
    "tags": []
   },
   "source": [
    "# Question 1\n",
    "\n",
    "In the [House Prices - Advanced Regression Techniques competition](https://www.kaggle.com/c/house-prices-advanced-regression-techniques/overview), you need to use information like the number of bedrooms and bathrooms to predict the price of a house.  Inspired by this competition, you'll write your own function to do this.\n",
    "\n",
    "In the next code cell, create a function `get_expected_cost()` that has two arguments:\n",
    "- `beds` - number of bedrooms \n",
    "- `baths` - number of bathrooms\n",
    "\n",
    "It should return the expected cost of a house with that number of bedrooms and bathrooms.  Assume that:\n",
    "- the expected cost for a house with 0 bedrooms and 0 bathrooms is `80000`.  \n",
    "- each bedroom adds `30000` to the expected cost\n",
    "- each bathroom adds `10000` to the expected cost.\n",
    "\n",
    "For instance, \n",
    "- a house with 1 bedroom and 1 bathroom has an expected cost of `120000`, and \n",
    "- a house with 2 bedrooms and 1 bathroom has an expected cost of `150000`."
   ]
  },
  {
   "cell_type": "code",
   "execution_count": 2,
   "id": "f1c74776",
   "metadata": {
    "execution": {
     "iopub.execute_input": "2025-02-25T21:44:40.745909Z",
     "iopub.status.busy": "2025-02-25T21:44:40.745472Z",
     "iopub.status.idle": "2025-02-25T21:44:40.752636Z",
     "shell.execute_reply": "2025-02-25T21:44:40.751779Z"
    },
    "papermill": {
     "duration": 0.012624,
     "end_time": "2025-02-25T21:44:40.753892",
     "exception": false,
     "start_time": "2025-02-25T21:44:40.741268",
     "status": "completed"
    },
    "tags": []
   },
   "outputs": [
    {
     "data": {
      "application/javascript": [
       "parent.postMessage({\"jupyterEvent\": \"custom.exercise_interaction\", \"data\": {\"outcomeType\": 1, \"valueTowardsCompletion\": 0.2, \"interactionType\": 1, \"questionType\": 2, \"questionId\": \"1_GetExpectedCost\", \"learnToolsVersion\": \"0.3.4\", \"failureMessage\": \"\", \"exceptionClass\": \"\", \"trace\": \"\"}}, \"*\")"
      ],
      "text/plain": [
       "<IPython.core.display.Javascript object>"
      ]
     },
     "metadata": {},
     "output_type": "display_data"
    },
    {
     "data": {
      "text/markdown": [
       "<span style=\"color:#33cc33\">Correct</span>"
      ],
      "text/plain": [
       "Correct"
      ]
     },
     "metadata": {},
     "output_type": "display_data"
    }
   ],
   "source": [
    "# TODO: Complete the function\n",
    "def get_expected_cost(beds, baths):\n",
    "    value = 80000 + 30000*beds + 10000*baths\n",
    "    return value\n",
    "\n",
    "# Check your answer \n",
    "q1.check()"
   ]
  },
  {
   "cell_type": "code",
   "execution_count": 3,
   "id": "e544f07a",
   "metadata": {
    "execution": {
     "iopub.execute_input": "2025-02-25T21:44:40.762253Z",
     "iopub.status.busy": "2025-02-25T21:44:40.762003Z",
     "iopub.status.idle": "2025-02-25T21:44:40.765422Z",
     "shell.execute_reply": "2025-02-25T21:44:40.764493Z"
    },
    "papermill": {
     "duration": 0.008846,
     "end_time": "2025-02-25T21:44:40.766692",
     "exception": false,
     "start_time": "2025-02-25T21:44:40.757846",
     "status": "completed"
    },
    "tags": []
   },
   "outputs": [],
   "source": [
    "# Uncomment to see a hint\n",
    "#q1.hint()\n",
    "\n",
    "# Uncomment to view the solution\n",
    "#q1.solution()"
   ]
  },
  {
   "cell_type": "markdown",
   "id": "99dcae88",
   "metadata": {
    "papermill": {
     "duration": 0.003358,
     "end_time": "2025-02-25T21:44:40.774089",
     "exception": false,
     "start_time": "2025-02-25T21:44:40.770731",
     "status": "completed"
    },
    "tags": []
   },
   "source": [
    "# Question 2\n",
    "\n",
    "You are thinking about buying a home and want to get an idea of how much you will spend, based on the number of bedrooms and bathrooms.  You are trying to decide between four different options:\n",
    "- Option 1: house with two bedrooms and three bathrooms\n",
    "- Option 2: house with three bedrooms and two bathrooms\n",
    "- Option 3: house with three bedrooms and three bathrooms\n",
    "- Option 4: house with three bedrooms and four bathrooms\n",
    "\n",
    "Use the `get_expected_cost()` function you defined in question 1 to set `option_1`, `option_2`, `option_3`, and `option_4` to the expected cost of each option."
   ]
  },
  {
   "cell_type": "code",
   "execution_count": 4,
   "id": "6ca4b097",
   "metadata": {
    "execution": {
     "iopub.execute_input": "2025-02-25T21:44:40.781917Z",
     "iopub.status.busy": "2025-02-25T21:44:40.781639Z",
     "iopub.status.idle": "2025-02-25T21:44:40.790270Z",
     "shell.execute_reply": "2025-02-25T21:44:40.788663Z"
    },
    "papermill": {
     "duration": 0.014862,
     "end_time": "2025-02-25T21:44:40.792353",
     "exception": false,
     "start_time": "2025-02-25T21:44:40.777491",
     "status": "completed"
    },
    "tags": []
   },
   "outputs": [
    {
     "name": "stdout",
     "output_type": "stream",
     "text": [
      "170000\n",
      "190000\n",
      "200000\n",
      "210000\n"
     ]
    },
    {
     "data": {
      "application/javascript": [
       "parent.postMessage({\"jupyterEvent\": \"custom.exercise_interaction\", \"data\": {\"outcomeType\": 1, \"valueTowardsCompletion\": 0.2, \"interactionType\": 1, \"questionType\": 1, \"questionId\": \"2_RunGetExpectedCost\", \"learnToolsVersion\": \"0.3.4\", \"failureMessage\": \"\", \"exceptionClass\": \"\", \"trace\": \"\"}}, \"*\")"
      ],
      "text/plain": [
       "<IPython.core.display.Javascript object>"
      ]
     },
     "metadata": {},
     "output_type": "display_data"
    },
    {
     "data": {
      "text/markdown": [
       "<span style=\"color:#33cc33\">Correct</span>"
      ],
      "text/plain": [
       "Correct"
      ]
     },
     "metadata": {},
     "output_type": "display_data"
    }
   ],
   "source": [
    "# TODO: Use the get_expected_cost function to fill in each value\n",
    "option_one = get_expected_cost(2,3)\n",
    "option_two = get_expected_cost(3,2)\n",
    "option_three = get_expected_cost(3,3)\n",
    "option_four = get_expected_cost(3,4)\n",
    "\n",
    "print(option_one)\n",
    "print(option_two)\n",
    "print(option_three)\n",
    "print(option_four)\n",
    "\n",
    "# Check your answer\n",
    "q2.check()"
   ]
  },
  {
   "cell_type": "code",
   "execution_count": 5,
   "id": "3851a718",
   "metadata": {
    "execution": {
     "iopub.execute_input": "2025-02-25T21:44:40.801860Z",
     "iopub.status.busy": "2025-02-25T21:44:40.801540Z",
     "iopub.status.idle": "2025-02-25T21:44:40.804919Z",
     "shell.execute_reply": "2025-02-25T21:44:40.803933Z"
    },
    "papermill": {
     "duration": 0.009513,
     "end_time": "2025-02-25T21:44:40.806241",
     "exception": false,
     "start_time": "2025-02-25T21:44:40.796728",
     "status": "completed"
    },
    "tags": []
   },
   "outputs": [],
   "source": [
    "# Uncomment to see a hint\n",
    "#q2.hint()\n",
    "\n",
    "# Uncomment to view the solution\n",
    "#q2.solution()"
   ]
  },
  {
   "cell_type": "markdown",
   "id": "e4174caa",
   "metadata": {
    "papermill": {
     "duration": 0.003425,
     "end_time": "2025-02-25T21:44:40.813797",
     "exception": false,
     "start_time": "2025-02-25T21:44:40.810372",
     "status": "completed"
    },
    "tags": []
   },
   "source": [
    "# Question 3\n",
    "\n",
    "You're a home decorator, and you'd like to use Python to streamline some of your work.  Specifically, you're creating a tool that you intend to use to calculate the cost of painting a room.\n",
    "\n",
    "As a first step, define a function `get_cost()` that takes as input:\n",
    "- `sqft_walls` = total square feet of walls to be painted\n",
    "- `sqft_ceiling` = square feet of ceiling to be painted\n",
    "- `sqft_per_gallon` = number of square feet that you can cover with one gallon of paint\n",
    "- `cost_per_gallon` = cost (in dollars) of one gallon of paint\n",
    "\n",
    "It should return the cost (in dollars) of putting one coat of paint on all walls and the ceiling.  Assume you can buy the exact amount of paint that you need, so you can buy partial gallons (e.g., if you need 7.523 gallons, you can buy that exact amount, instead of needing to buy 8 gallons and waste some paint).  Do not round your answer."
   ]
  },
  {
   "cell_type": "code",
   "execution_count": 6,
   "id": "8c8e2a27",
   "metadata": {
    "execution": {
     "iopub.execute_input": "2025-02-25T21:44:40.822597Z",
     "iopub.status.busy": "2025-02-25T21:44:40.822283Z",
     "iopub.status.idle": "2025-02-25T21:44:40.829705Z",
     "shell.execute_reply": "2025-02-25T21:44:40.828611Z"
    },
    "papermill": {
     "duration": 0.013824,
     "end_time": "2025-02-25T21:44:40.831308",
     "exception": false,
     "start_time": "2025-02-25T21:44:40.817484",
     "status": "completed"
    },
    "tags": []
   },
   "outputs": [
    {
     "data": {
      "application/javascript": [
       "parent.postMessage({\"jupyterEvent\": \"custom.exercise_interaction\", \"data\": {\"outcomeType\": 1, \"valueTowardsCompletion\": 0.2, \"interactionType\": 1, \"questionType\": 2, \"questionId\": \"3_GetCostPaint\", \"learnToolsVersion\": \"0.3.4\", \"failureMessage\": \"\", \"exceptionClass\": \"\", \"trace\": \"\"}}, \"*\")"
      ],
      "text/plain": [
       "<IPython.core.display.Javascript object>"
      ]
     },
     "metadata": {},
     "output_type": "display_data"
    },
    {
     "data": {
      "text/markdown": [
       "<span style=\"color:#33cc33\">Correct</span>"
      ],
      "text/plain": [
       "Correct"
      ]
     },
     "metadata": {},
     "output_type": "display_data"
    }
   ],
   "source": [
    "# TODO: Finish defining the function\n",
    "def get_cost(sqft_walls, sqft_ceiling, sqft_per_gallon, cost_per_gallon):\n",
    "  \n",
    "    # Total squarefeet to be painted \n",
    "    total_squarefeet = sqft_walls + sqft_ceiling\n",
    "    \n",
    "    # Gallons to be bought\n",
    "    gallons_needed = total_squarefeet /  sqft_per_gallon\n",
    "    \n",
    "    # Cost of paint\n",
    "    cost = gallons_needed * cost_per_gallon\n",
    "    return cost\n",
    "\n",
    "# Check your answer\n",
    "q3.check()"
   ]
  },
  {
   "cell_type": "code",
   "execution_count": 7,
   "id": "91e6eb67",
   "metadata": {
    "execution": {
     "iopub.execute_input": "2025-02-25T21:44:40.840733Z",
     "iopub.status.busy": "2025-02-25T21:44:40.840445Z",
     "iopub.status.idle": "2025-02-25T21:44:40.843435Z",
     "shell.execute_reply": "2025-02-25T21:44:40.842705Z"
    },
    "papermill": {
     "duration": 0.008802,
     "end_time": "2025-02-25T21:44:40.844633",
     "exception": false,
     "start_time": "2025-02-25T21:44:40.835831",
     "status": "completed"
    },
    "tags": []
   },
   "outputs": [],
   "source": [
    "# Uncomment to see a hint\n",
    "#q3.hint()\n",
    "\n",
    "# Uncomment to view the solution\n",
    "#q3.solution()"
   ]
  },
  {
   "cell_type": "markdown",
   "id": "b1c4df55",
   "metadata": {
    "papermill": {
     "duration": 0.003528,
     "end_time": "2025-02-25T21:44:40.852449",
     "exception": false,
     "start_time": "2025-02-25T21:44:40.848921",
     "status": "completed"
    },
    "tags": []
   },
   "source": [
    "# Question 4\n",
    "\n",
    "Use the `get_cost()` function you defined in Question 3 to calculate the cost of applying one coat of paint to a room with:\n",
    "- 432 square feet of walls, and\n",
    "- 144 square feet of ceiling.\n",
    "\n",
    "Assume that one gallon of paint covers 400 square feet and costs $15.  As in Question 3, assume you can buy partial gallons of paint.  Do not round your answer."
   ]
  },
  {
   "cell_type": "code",
   "execution_count": 8,
   "id": "9ce8fecc",
   "metadata": {
    "execution": {
     "iopub.execute_input": "2025-02-25T21:44:40.861161Z",
     "iopub.status.busy": "2025-02-25T21:44:40.860812Z",
     "iopub.status.idle": "2025-02-25T21:44:40.867061Z",
     "shell.execute_reply": "2025-02-25T21:44:40.866148Z"
    },
    "papermill": {
     "duration": 0.012129,
     "end_time": "2025-02-25T21:44:40.868375",
     "exception": false,
     "start_time": "2025-02-25T21:44:40.856246",
     "status": "completed"
    },
    "tags": []
   },
   "outputs": [
    {
     "data": {
      "application/javascript": [
       "parent.postMessage({\"jupyterEvent\": \"custom.exercise_interaction\", \"data\": {\"outcomeType\": 1, \"valueTowardsCompletion\": 0.2, \"interactionType\": 1, \"questionType\": 1, \"questionId\": \"4_GetCostPaintExample\", \"learnToolsVersion\": \"0.3.4\", \"failureMessage\": \"\", \"exceptionClass\": \"\", \"trace\": \"\"}}, \"*\")"
      ],
      "text/plain": [
       "<IPython.core.display.Javascript object>"
      ]
     },
     "metadata": {},
     "output_type": "display_data"
    },
    {
     "data": {
      "text/markdown": [
       "<span style=\"color:#33cc33\">Correct</span>"
      ],
      "text/plain": [
       "Correct"
      ]
     },
     "metadata": {},
     "output_type": "display_data"
    }
   ],
   "source": [
    "# TODO: Set the project_cost variable to the cost of the project\n",
    "project_cost = get_cost(432, 144, 400, 15)\n",
    "\n",
    "# Check your answer\n",
    "q4.check()"
   ]
  },
  {
   "cell_type": "code",
   "execution_count": 9,
   "id": "cba66315",
   "metadata": {
    "execution": {
     "iopub.execute_input": "2025-02-25T21:44:40.877378Z",
     "iopub.status.busy": "2025-02-25T21:44:40.877071Z",
     "iopub.status.idle": "2025-02-25T21:44:40.880398Z",
     "shell.execute_reply": "2025-02-25T21:44:40.879511Z"
    },
    "papermill": {
     "duration": 0.009276,
     "end_time": "2025-02-25T21:44:40.881741",
     "exception": false,
     "start_time": "2025-02-25T21:44:40.872465",
     "status": "completed"
    },
    "tags": []
   },
   "outputs": [],
   "source": [
    "# Uncomment to see a hint\n",
    "#q4.hint()\n",
    "\n",
    "# Uncomment to view the solution\n",
    "#q4.solution()"
   ]
  },
  {
   "cell_type": "markdown",
   "id": "76aebad2",
   "metadata": {
    "papermill": {
     "duration": 0.003719,
     "end_time": "2025-02-25T21:44:40.889623",
     "exception": false,
     "start_time": "2025-02-25T21:44:40.885904",
     "status": "completed"
    },
    "tags": []
   },
   "source": [
    "# 🌶️ Question 5\n",
    "\n",
    "Now say you can no longer buy fractions of a gallon.  (For instance, if you need 4.3 gallons to do a project, then you have to buy 5 gallons of paint.)\n",
    "\n",
    "With this new scenario, you will create a new function `get_actual_cost` that uses the same inputs and calculates the cost of your project.\n",
    "\n",
    "One function that you'll need to use to do this is `math.ceil()`.  We demonstrate usage of this function in the code cell below.  It takes as a number as input and rounds the number up to the nearest integer.  \n",
    "\n",
    "Run the next code cell to test this function for yourself.  Feel free to change the value of `test_value` and make sure `math.ceil()` returns the number you expect."
   ]
  },
  {
   "cell_type": "code",
   "execution_count": 10,
   "id": "390c6be3",
   "metadata": {
    "execution": {
     "iopub.execute_input": "2025-02-25T21:44:40.898634Z",
     "iopub.status.busy": "2025-02-25T21:44:40.898289Z",
     "iopub.status.idle": "2025-02-25T21:44:40.902402Z",
     "shell.execute_reply": "2025-02-25T21:44:40.901507Z"
    },
    "papermill": {
     "duration": 0.010583,
     "end_time": "2025-02-25T21:44:40.904084",
     "exception": false,
     "start_time": "2025-02-25T21:44:40.893501",
     "status": "completed"
    },
    "tags": []
   },
   "outputs": [
    {
     "name": "stdout",
     "output_type": "stream",
     "text": [
      "3\n"
     ]
    }
   ],
   "source": [
    "test_value = 2.17\n",
    "\n",
    "rounded_value = math.ceil(test_value)\n",
    "print(rounded_value)"
   ]
  },
  {
   "cell_type": "markdown",
   "id": "48d621b9",
   "metadata": {
    "papermill": {
     "duration": 0.003776,
     "end_time": "2025-02-25T21:44:40.912341",
     "exception": false,
     "start_time": "2025-02-25T21:44:40.908565",
     "status": "completed"
    },
    "tags": []
   },
   "source": [
    "Use the next code cell to define the function `get_actual_cost()`.  You'll need to use the `math.ceil()` function to do this.\n",
    "\n",
    "When answering this question, note that it's completely valid to define a function that makes use of another function.  For instance, we can define a function `round_up_and_divide_by_three` that makes use of the `math.ceil` function:\n",
    "```\n",
    "def round_up_and_divide_by_three(num):\n",
    "    new_value = math.ceil(num)\n",
    "    final_value = new_value / 3\n",
    "    return final_value\n",
    "```"
   ]
  },
  {
   "cell_type": "code",
   "execution_count": 11,
   "id": "74a59699",
   "metadata": {
    "execution": {
     "iopub.execute_input": "2025-02-25T21:44:40.921672Z",
     "iopub.status.busy": "2025-02-25T21:44:40.921382Z",
     "iopub.status.idle": "2025-02-25T21:44:40.924944Z",
     "shell.execute_reply": "2025-02-25T21:44:40.924256Z"
    },
    "papermill": {
     "duration": 0.010091,
     "end_time": "2025-02-25T21:44:40.926686",
     "exception": false,
     "start_time": "2025-02-25T21:44:40.916595",
     "status": "completed"
    },
    "tags": []
   },
   "outputs": [],
   "source": [
    "def get_actual_cost(sqft_walls, sqft_ceiling, sqft_per_gallon, cost_per_gallon):\n",
    "\n",
    "# Rounded cost of paint\n",
    "    \n",
    "    # Total squarefeet to be painted \n",
    "    total_squarefeet = sqft_walls + sqft_ceiling\n",
    "    \n",
    "    # Gallons to be bought\n",
    "    gallons_needed = math.ceil(total_squarefeet /  sqft_per_gallon)\n",
    "    \n",
    "    # Cost of paint\n",
    "    cost = gallons_needed * cost_per_gallon\n",
    "    \n",
    "    return cost"
   ]
  },
  {
   "cell_type": "code",
   "execution_count": 12,
   "id": "818ee0e3",
   "metadata": {
    "execution": {
     "iopub.execute_input": "2025-02-25T21:44:40.936594Z",
     "iopub.status.busy": "2025-02-25T21:44:40.936354Z",
     "iopub.status.idle": "2025-02-25T21:44:40.939070Z",
     "shell.execute_reply": "2025-02-25T21:44:40.938379Z"
    },
    "papermill": {
     "duration": 0.008654,
     "end_time": "2025-02-25T21:44:40.940238",
     "exception": false,
     "start_time": "2025-02-25T21:44:40.931584",
     "status": "completed"
    },
    "tags": []
   },
   "outputs": [],
   "source": [
    "# Uncomment to see a hint\n",
    "#q5.hint()\n",
    "\n",
    "# Uncomment to view the solution\n",
    "#q5.solution()"
   ]
  },
  {
   "cell_type": "markdown",
   "id": "3bf34e79",
   "metadata": {
    "papermill": {
     "duration": 0.003774,
     "end_time": "2025-02-25T21:44:40.948571",
     "exception": false,
     "start_time": "2025-02-25T21:44:40.944797",
     "status": "completed"
    },
    "tags": []
   },
   "source": [
    "Once your function is verified as correct, run the next code cell to calculate the updated cost of your project."
   ]
  },
  {
   "cell_type": "code",
   "execution_count": 13,
   "id": "80a08bd5",
   "metadata": {
    "execution": {
     "iopub.execute_input": "2025-02-25T21:44:40.957367Z",
     "iopub.status.busy": "2025-02-25T21:44:40.957096Z",
     "iopub.status.idle": "2025-02-25T21:44:40.961092Z",
     "shell.execute_reply": "2025-02-25T21:44:40.960427Z"
    },
    "papermill": {
     "duration": 0.009604,
     "end_time": "2025-02-25T21:44:40.962190",
     "exception": false,
     "start_time": "2025-02-25T21:44:40.952586",
     "status": "completed"
    },
    "tags": []
   },
   "outputs": [
    {
     "data": {
      "text/plain": [
       "30"
      ]
     },
     "execution_count": 13,
     "metadata": {},
     "output_type": "execute_result"
    }
   ],
   "source": [
    "get_actual_cost(432, 144, 400, 15) "
   ]
  },
  {
   "cell_type": "markdown",
   "id": "c18b654d",
   "metadata": {
    "papermill": {
     "duration": 0.003827,
     "end_time": "2025-02-25T21:44:40.970146",
     "exception": false,
     "start_time": "2025-02-25T21:44:40.966319",
     "status": "completed"
    },
    "tags": []
   },
   "source": [
    "Say you're working with a slightly larger room.  Run the next code cell to calculate the cost of the project."
   ]
  },
  {
   "cell_type": "code",
   "execution_count": 14,
   "id": "cebf6a2f",
   "metadata": {
    "execution": {
     "iopub.execute_input": "2025-02-25T21:44:40.979242Z",
     "iopub.status.busy": "2025-02-25T21:44:40.978917Z",
     "iopub.status.idle": "2025-02-25T21:44:40.983322Z",
     "shell.execute_reply": "2025-02-25T21:44:40.982601Z"
    },
    "papermill": {
     "duration": 0.010909,
     "end_time": "2025-02-25T21:44:40.985123",
     "exception": false,
     "start_time": "2025-02-25T21:44:40.974214",
     "status": "completed"
    },
    "tags": []
   },
   "outputs": [
    {
     "data": {
      "text/plain": [
       "45"
      ]
     },
     "execution_count": 14,
     "metadata": {},
     "output_type": "execute_result"
    }
   ],
   "source": [
    "get_actual_cost(594, 288, 400, 15) "
   ]
  },
  {
   "cell_type": "markdown",
   "id": "1f51a9d6",
   "metadata": {
    "papermill": {
     "duration": 0.004073,
     "end_time": "2025-02-25T21:44:40.994258",
     "exception": false,
     "start_time": "2025-02-25T21:44:40.990185",
     "status": "completed"
    },
    "tags": []
   },
   "source": [
    "# Keep going\n",
    "\n",
    "Continue to learn about **[data types](https://www.kaggle.com/alexisbcook/data-types)**."
   ]
  },
  {
   "cell_type": "markdown",
   "id": "f559aabb",
   "metadata": {
    "papermill": {
     "duration": 0.003856,
     "end_time": "2025-02-25T21:44:41.002463",
     "exception": false,
     "start_time": "2025-02-25T21:44:40.998607",
     "status": "completed"
    },
    "tags": []
   },
   "source": [
    "---\n",
    "\n",
    "\n",
    "\n",
    "\n",
    "*Have questions or comments? Visit the [course discussion forum](https://www.kaggle.com/learn/intro-to-programming/discussion) to chat with other learners.*"
   ]
  }
 ],
 "metadata": {
  "kaggle": {
   "accelerator": "none",
   "dataSources": [],
   "isGpuEnabled": false,
   "isInternetEnabled": false,
   "language": "python",
   "sourceType": "notebook"
  },
  "kernelspec": {
   "display_name": "Python 3",
   "language": "python",
   "name": "python3"
  },
  "language_info": {
   "codemirror_mode": {
    "name": "ipython",
    "version": 3
   },
   "file_extension": ".py",
   "mimetype": "text/x-python",
   "name": "python",
   "nbconvert_exporter": "python",
   "pygments_lexer": "ipython3",
   "version": "3.10.12"
  },
  "papermill": {
   "default_parameters": {},
   "duration": 4.047704,
   "end_time": "2025-02-25T21:44:41.525986",
   "environment_variables": {},
   "exception": null,
   "input_path": "__notebook__.ipynb",
   "output_path": "__notebook__.ipynb",
   "parameters": {},
   "start_time": "2025-02-25T21:44:37.478282",
   "version": "2.6.0"
  }
 },
 "nbformat": 4,
 "nbformat_minor": 5
}
