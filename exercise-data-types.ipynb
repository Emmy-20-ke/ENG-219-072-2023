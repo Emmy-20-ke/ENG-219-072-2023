{
 "cells": [
  {
   "cell_type": "markdown",
   "id": "6ef1ff27",
   "metadata": {
    "papermill": {
     "duration": 0.005891,
     "end_time": "2025-02-25T21:53:36.346831",
     "exception": false,
     "start_time": "2025-02-25T21:53:36.340940",
     "status": "completed"
    },
    "tags": []
   },
   "source": [
    "**This notebook is an exercise in the [Intro to Programming](https://www.kaggle.com/learn/intro-to-programming) course.  You can reference the tutorial at [this link](https://www.kaggle.com/alexisbcook/data-types).**\n",
    "\n",
    "---\n"
   ]
  },
  {
   "cell_type": "markdown",
   "id": "299c2293",
   "metadata": {
    "papermill": {
     "duration": 0.004924,
     "end_time": "2025-02-25T21:53:36.357111",
     "exception": false,
     "start_time": "2025-02-25T21:53:36.352187",
     "status": "completed"
    },
    "tags": []
   },
   "source": [
    "In the tutorial, you learned about four different data types: floats, integers, strings, and booleans.  In this exercise, you'll experiment with them.\n",
    "\n",
    "# Set up the notebook\n",
    "\n",
    "Run the next code cell without changes to set up the notebook."
   ]
  },
  {
   "cell_type": "code",
   "execution_count": 1,
   "id": "f2c58237",
   "metadata": {
    "execution": {
     "iopub.execute_input": "2025-02-25T21:53:36.368606Z",
     "iopub.status.busy": "2025-02-25T21:53:36.368231Z",
     "iopub.status.idle": "2025-02-25T21:53:37.367224Z",
     "shell.execute_reply": "2025-02-25T21:53:37.366003Z"
    },
    "papermill": {
     "duration": 1.007002,
     "end_time": "2025-02-25T21:53:37.369250",
     "exception": false,
     "start_time": "2025-02-25T21:53:36.362248",
     "status": "completed"
    },
    "tags": []
   },
   "outputs": [
    {
     "name": "stdout",
     "output_type": "stream",
     "text": [
      "Setup complete.\n"
     ]
    }
   ],
   "source": [
    "# Set up the exercise\n",
    "from learntools.core import binder\n",
    "binder.bind(globals())\n",
    "from learntools.intro_to_programming.ex3 import *\n",
    "print('Setup complete.')"
   ]
  },
  {
   "cell_type": "markdown",
   "id": "466445ce",
   "metadata": {
    "papermill": {
     "duration": 0.005064,
     "end_time": "2025-02-25T21:53:37.380002",
     "exception": false,
     "start_time": "2025-02-25T21:53:37.374938",
     "status": "completed"
    },
    "tags": []
   },
   "source": [
    "# Question 1\n",
    "\n",
    "You have seen how to convert a float to an integer with the `int` function.  Try this out yourself by running the code cell below."
   ]
  },
  {
   "cell_type": "code",
   "execution_count": 2,
   "id": "ed4a3d43",
   "metadata": {
    "execution": {
     "iopub.execute_input": "2025-02-25T21:53:37.392095Z",
     "iopub.status.busy": "2025-02-25T21:53:37.391607Z",
     "iopub.status.idle": "2025-02-25T21:53:37.398231Z",
     "shell.execute_reply": "2025-02-25T21:53:37.397093Z"
    },
    "papermill": {
     "duration": 0.014515,
     "end_time": "2025-02-25T21:53:37.399868",
     "exception": false,
     "start_time": "2025-02-25T21:53:37.385353",
     "status": "completed"
    },
    "tags": []
   },
   "outputs": [
    {
     "name": "stdout",
     "output_type": "stream",
     "text": [
      "1.0\n",
      "<class 'float'>\n",
      "1\n",
      "<class 'int'>\n"
     ]
    }
   ],
   "source": [
    "# Define a float\n",
    "y = 1.\n",
    "print(y)\n",
    "print(type(y))\n",
    "\n",
    "# Convert float to integer with the int function\n",
    "z = int(y)\n",
    "print(z)\n",
    "print(type(z))"
   ]
  },
  {
   "cell_type": "markdown",
   "id": "85d6b570",
   "metadata": {
    "papermill": {
     "duration": 0.004977,
     "end_time": "2025-02-25T21:53:37.410483",
     "exception": false,
     "start_time": "2025-02-25T21:53:37.405506",
     "status": "completed"
    },
    "tags": []
   },
   "source": [
    "In this case, the float you are using has no numbers after the decimal.  \n",
    "- But what happens when you try to convert a float with a fractional part to an integer?  \n",
    "- How does the outcome of the `int` function change for positive and negative numbers?\n",
    "\n",
    "Use the next code cell to investigate and answer these questions.  Feel free to add or remove any lines of code -- it is your workspace!"
   ]
  },
  {
   "cell_type": "code",
   "execution_count": 3,
   "id": "a883301d",
   "metadata": {
    "execution": {
     "iopub.execute_input": "2025-02-25T21:53:37.422477Z",
     "iopub.status.busy": "2025-02-25T21:53:37.422104Z",
     "iopub.status.idle": "2025-02-25T21:53:37.425949Z",
     "shell.execute_reply": "2025-02-25T21:53:37.424837Z"
    },
    "papermill": {
     "duration": 0.011951,
     "end_time": "2025-02-25T21:53:37.427784",
     "exception": false,
     "start_time": "2025-02-25T21:53:37.415833",
     "status": "completed"
    },
    "tags": []
   },
   "outputs": [],
   "source": [
    "# Uncomment and run this code to get started!\n",
    "#print(int(1.2321))\n",
    "#print(int(1.747))\n",
    "#print(int(-3.94535))\n",
    "#print(int(-2.19774))"
   ]
  },
  {
   "cell_type": "markdown",
   "id": "0607ceb6",
   "metadata": {
    "papermill": {
     "duration": 0.005145,
     "end_time": "2025-02-25T21:53:37.438588",
     "exception": false,
     "start_time": "2025-02-25T21:53:37.433443",
     "status": "completed"
    },
    "tags": []
   },
   "source": [
    "Once you have an answer, run the code cell below to see the solution.  Viewing the solution will give you credit for answering the problem."
   ]
  },
  {
   "cell_type": "code",
   "execution_count": 4,
   "id": "92221877",
   "metadata": {
    "execution": {
     "iopub.execute_input": "2025-02-25T21:53:37.450633Z",
     "iopub.status.busy": "2025-02-25T21:53:37.450202Z",
     "iopub.status.idle": "2025-02-25T21:53:37.458839Z",
     "shell.execute_reply": "2025-02-25T21:53:37.457677Z"
    },
    "papermill": {
     "duration": 0.016681,
     "end_time": "2025-02-25T21:53:37.460647",
     "exception": false,
     "start_time": "2025-02-25T21:53:37.443966",
     "status": "completed"
    },
    "tags": []
   },
   "outputs": [
    {
     "data": {
      "application/javascript": [
       "parent.postMessage({\"jupyterEvent\": \"custom.exercise_interaction\", \"data\": {\"outcomeType\": 1, \"valueTowardsCompletion\": 0.2, \"interactionType\": 1, \"questionType\": 4, \"questionId\": \"1_FloatToInt\", \"learnToolsVersion\": \"0.3.4\", \"failureMessage\": \"\", \"exceptionClass\": \"\", \"trace\": \"\"}}, \"*\")"
      ],
      "text/plain": [
       "<IPython.core.display.Javascript object>"
      ]
     },
     "metadata": {},
     "output_type": "display_data"
    },
    {
     "data": {
      "text/markdown": [
       "<span style=\"color:#33cc33\">Correct:</span> \n",
       "\n",
       "Negative floats are always rounded UP to the closest integer (for instance, both -1.1 and -1.9 are rounded up to -1). Positive floats are always rounded DOWN to the closest integer (for instance, 2.1 and 2.9 are rounded down to 2)."
      ],
      "text/plain": [
       "Correct: \n",
       "\n",
       "Negative floats are always rounded UP to the closest integer (for instance, both -1.1 and -1.9 are rounded up to -1). Positive floats are always rounded DOWN to the closest integer (for instance, 2.1 and 2.9 are rounded down to 2)."
      ]
     },
     "metadata": {},
     "output_type": "display_data"
    }
   ],
   "source": [
    "# Check your answer (Run this code cell to receive credit!)\n",
    "q1.check()"
   ]
  },
  {
   "cell_type": "markdown",
   "id": "e877d3ce",
   "metadata": {
    "papermill": {
     "duration": 0.005454,
     "end_time": "2025-02-25T21:53:37.472028",
     "exception": false,
     "start_time": "2025-02-25T21:53:37.466574",
     "status": "completed"
    },
    "tags": []
   },
   "source": [
    "# Question 2\n",
    "\n",
    "In the tutorial, you learned about booleans (which can take a value of `True` or `False`), in addition to integers, floats, and strings.  For this question, your goal is to determine what happens when you multiply a boolean by any of these data types.  Specifically, \n",
    "- What happens when you multiply an integer or float by `True`?  What happens when you multiply them by `False`?  How does the answer change if the numbers are positive or negative?\n",
    "- What happens when you multiply a string by `True`?  By `False`?\n",
    "\n",
    "Use the next code cell for your investigation. "
   ]
  },
  {
   "cell_type": "code",
   "execution_count": 5,
   "id": "56fa6966",
   "metadata": {
    "execution": {
     "iopub.execute_input": "2025-02-25T21:53:37.484463Z",
     "iopub.status.busy": "2025-02-25T21:53:37.484130Z",
     "iopub.status.idle": "2025-02-25T21:53:37.489846Z",
     "shell.execute_reply": "2025-02-25T21:53:37.488505Z"
    },
    "papermill": {
     "duration": 0.013777,
     "end_time": "2025-02-25T21:53:37.491386",
     "exception": false,
     "start_time": "2025-02-25T21:53:37.477609",
     "status": "completed"
    },
    "tags": []
   },
   "outputs": [
    {
     "name": "stdout",
     "output_type": "stream",
     "text": [
      "3\n",
      "-3.1\n",
      "<class 'str'>\n",
      "0\n"
     ]
    }
   ],
   "source": [
    "# Uncomment and run this code to get started!\n",
    "print(3 * True)\n",
    "print(-3.1 * True)\n",
    "print(type(\"abc\" * False))\n",
    "print(len(\"abc\" * False))"
   ]
  },
  {
   "cell_type": "markdown",
   "id": "843c8f45",
   "metadata": {
    "papermill": {
     "duration": 0.005365,
     "end_time": "2025-02-25T21:53:37.502696",
     "exception": false,
     "start_time": "2025-02-25T21:53:37.497331",
     "status": "completed"
    },
    "tags": []
   },
   "source": [
    "Once you have an answer, run the code cell below to see the solution.  Viewing the solution will give you credit for answering the problem."
   ]
  },
  {
   "cell_type": "code",
   "execution_count": 6,
   "id": "48a69e30",
   "metadata": {
    "execution": {
     "iopub.execute_input": "2025-02-25T21:53:37.516787Z",
     "iopub.status.busy": "2025-02-25T21:53:37.516424Z",
     "iopub.status.idle": "2025-02-25T21:53:37.523928Z",
     "shell.execute_reply": "2025-02-25T21:53:37.522996Z"
    },
    "papermill": {
     "duration": 0.016596,
     "end_time": "2025-02-25T21:53:37.525825",
     "exception": false,
     "start_time": "2025-02-25T21:53:37.509229",
     "status": "completed"
    },
    "tags": []
   },
   "outputs": [
    {
     "data": {
      "application/javascript": [
       "parent.postMessage({\"jupyterEvent\": \"custom.exercise_interaction\", \"data\": {\"outcomeType\": 1, \"valueTowardsCompletion\": 0.2, \"interactionType\": 1, \"questionType\": 4, \"questionId\": \"2_MultiplyBooleans\", \"learnToolsVersion\": \"0.3.4\", \"failureMessage\": \"\", \"exceptionClass\": \"\", \"trace\": \"\"}}, \"*\")"
      ],
      "text/plain": [
       "<IPython.core.display.Javascript object>"
      ]
     },
     "metadata": {},
     "output_type": "display_data"
    },
    {
     "data": {
      "text/markdown": [
       "<span style=\"color:#33cc33\">Correct:</span> \n",
       "\n",
       "When you multiple an integer or float by a boolean with value `True`, it just returns that same integer or float (and is equivalent to multiplying by 1).  If you multiply an integer or float by a boolean with value `False`, it always returns 0.  This is true for both positive and negative numbers.  If you multiply a string by a boolean with value `True`, it just returns that same string.  And if you multiply a string by a boolean with value `False`, it returns an empty string (or a string with length zero)."
      ],
      "text/plain": [
       "Correct: \n",
       "\n",
       "When you multiple an integer or float by a boolean with value `True`, it just returns that same integer or float (and is equivalent to multiplying by 1).  If you multiply an integer or float by a boolean with value `False`, it always returns 0.  This is true for both positive and negative numbers.  If you multiply a string by a boolean with value `True`, it just returns that same string.  And if you multiply a string by a boolean with value `False`, it returns an empty string (or a string with length zero)."
      ]
     },
     "metadata": {},
     "output_type": "display_data"
    }
   ],
   "source": [
    "# Check your answer (Run this code cell to receive credit!)\n",
    "q2.check()"
   ]
  },
  {
   "cell_type": "markdown",
   "id": "5180eeed",
   "metadata": {
    "papermill": {
     "duration": 0.006657,
     "end_time": "2025-02-25T21:53:37.538810",
     "exception": false,
     "start_time": "2025-02-25T21:53:37.532153",
     "status": "completed"
    },
    "tags": []
   },
   "source": [
    "# Question 3\n",
    "\n",
    "In this question, you will build off your work from the previous exercise to write a function that estimates the value of a house.\n",
    "\n",
    "Use the next code cell to create a function `get_expected_cost` that takes as input three variables:\n",
    "- `beds` - number of bedrooms (data type float)\n",
    "- `baths` - number of bathrooms (data type float)\n",
    "- `has_basement` - whether or not the house has a basement (data type boolean)\n",
    "\n",
    "It should return the expected cost of a house with those characteristics. Assume that:\n",
    "- the expected cost for a house with 0 bedrooms and 0 bathrooms, and no basement is 80000, \n",
    "- each bedroom adds 30000 to the expected cost,\n",
    "- each bathroom adds 10000 to the expected cost, and\n",
    "- a basement adds 40000 to the expected cost.\n",
    "\n",
    "For instance,\n",
    "- a house with 1 bedroom, 1 bathroom, and no basement has an expected cost of 80000 + 30000 + 10000 = 120000.  This value will be calculated with `get_expected_cost(1, 1, False)`.\n",
    "- a house with 2 bedrooms, 1 bathroom, and a basement has an expected cost of 80000 + 2*30000 + 10000 + 40000 = 190000.  This value will be calculated with `get_expected_cost(2, 1, True)`.\n",
    "\n",
    "Remember you can always get a hint by uncommenting `q3.hint()` in the code cell following the next!"
   ]
  },
  {
   "cell_type": "code",
   "execution_count": 7,
   "id": "a880a442",
   "metadata": {
    "execution": {
     "iopub.execute_input": "2025-02-25T21:53:37.552513Z",
     "iopub.status.busy": "2025-02-25T21:53:37.552048Z",
     "iopub.status.idle": "2025-02-25T21:53:37.560079Z",
     "shell.execute_reply": "2025-02-25T21:53:37.559140Z"
    },
    "papermill": {
     "duration": 0.01695,
     "end_time": "2025-02-25T21:53:37.561817",
     "exception": false,
     "start_time": "2025-02-25T21:53:37.544867",
     "status": "completed"
    },
    "tags": []
   },
   "outputs": [
    {
     "data": {
      "application/javascript": [
       "parent.postMessage({\"jupyterEvent\": \"custom.exercise_interaction\", \"data\": {\"outcomeType\": 1, \"valueTowardsCompletion\": 0.2, \"interactionType\": 1, \"questionType\": 2, \"questionId\": \"3_EstimateHouseValueBool\", \"learnToolsVersion\": \"0.3.4\", \"failureMessage\": \"\", \"exceptionClass\": \"\", \"trace\": \"\"}}, \"*\")"
      ],
      "text/plain": [
       "<IPython.core.display.Javascript object>"
      ]
     },
     "metadata": {},
     "output_type": "display_data"
    },
    {
     "data": {
      "text/markdown": [
       "<span style=\"color:#33cc33\">Correct</span>"
      ],
      "text/plain": [
       "Correct"
      ]
     },
     "metadata": {},
     "output_type": "display_data"
    }
   ],
   "source": [
    "# TODO: Complete the function\n",
    "def get_expected_cost(beds, baths, has_basement):\n",
    "    value = 80000 + beds*30000 + baths*10000 + has_basement*40000\n",
    "    return value\n",
    "\n",
    "# Check your answer \n",
    "q3.check()"
   ]
  },
  {
   "cell_type": "code",
   "execution_count": 8,
   "id": "f21a73f2",
   "metadata": {
    "execution": {
     "iopub.execute_input": "2025-02-25T21:53:37.577037Z",
     "iopub.status.busy": "2025-02-25T21:53:37.576640Z",
     "iopub.status.idle": "2025-02-25T21:53:37.580591Z",
     "shell.execute_reply": "2025-02-25T21:53:37.579551Z"
    },
    "papermill": {
     "duration": 0.012923,
     "end_time": "2025-02-25T21:53:37.582265",
     "exception": false,
     "start_time": "2025-02-25T21:53:37.569342",
     "status": "completed"
    },
    "tags": []
   },
   "outputs": [],
   "source": [
    "# Uncomment to see a hint\n",
    "#q3.hint()\n",
    "\n",
    "# Uncomment to view the solution\n",
    "#q3.solution()"
   ]
  },
  {
   "cell_type": "markdown",
   "id": "27047972",
   "metadata": {
    "papermill": {
     "duration": 0.006087,
     "end_time": "2025-02-25T21:53:37.594944",
     "exception": false,
     "start_time": "2025-02-25T21:53:37.588857",
     "status": "completed"
    },
    "tags": []
   },
   "source": [
    "# Question 4\n",
    "\n",
    "We'll continue our study of boolean arithmetic.  For this question, your task is to provide a description of what happpens when you add booleans. \n",
    "\n",
    "Use the next code cell for your investigation.  Feel free to add or remove any lines of code - use it as your workspace!"
   ]
  },
  {
   "cell_type": "code",
   "execution_count": 9,
   "id": "e07c81fe",
   "metadata": {
    "execution": {
     "iopub.execute_input": "2025-02-25T21:53:37.608768Z",
     "iopub.status.busy": "2025-02-25T21:53:37.608350Z",
     "iopub.status.idle": "2025-02-25T21:53:37.615254Z",
     "shell.execute_reply": "2025-02-25T21:53:37.614198Z"
    },
    "papermill": {
     "duration": 0.015682,
     "end_time": "2025-02-25T21:53:37.616953",
     "exception": false,
     "start_time": "2025-02-25T21:53:37.601271",
     "status": "completed"
    },
    "tags": []
   },
   "outputs": [
    {
     "name": "stdout",
     "output_type": "stream",
     "text": [
      "0\n",
      "1\n",
      "1\n",
      "2\n",
      "3\n",
      "abc\n",
      "\n"
     ]
    }
   ],
   "source": [
    "print(False + False)\n",
    "print(True + False)\n",
    "print(False + True)\n",
    "print(True + True)\n",
    "print(False + True + True + True)\n",
    "print(\"abc\" * True)\n",
    "print('abc' * False)"
   ]
  },
  {
   "cell_type": "markdown",
   "id": "692fe2cd",
   "metadata": {
    "papermill": {
     "duration": 0.006233,
     "end_time": "2025-02-25T21:53:37.629641",
     "exception": false,
     "start_time": "2025-02-25T21:53:37.623408",
     "status": "completed"
    },
    "tags": []
   },
   "source": [
    "Once you have an answer, run the code cell below to see the solution.  Viewing the solution will give you credit for answering the problem."
   ]
  },
  {
   "cell_type": "code",
   "execution_count": 10,
   "id": "20067a37",
   "metadata": {
    "execution": {
     "iopub.execute_input": "2025-02-25T21:53:37.644316Z",
     "iopub.status.busy": "2025-02-25T21:53:37.643917Z",
     "iopub.status.idle": "2025-02-25T21:53:37.651530Z",
     "shell.execute_reply": "2025-02-25T21:53:37.650494Z"
    },
    "papermill": {
     "duration": 0.016685,
     "end_time": "2025-02-25T21:53:37.653362",
     "exception": false,
     "start_time": "2025-02-25T21:53:37.636677",
     "status": "completed"
    },
    "tags": []
   },
   "outputs": [
    {
     "data": {
      "application/javascript": [
       "parent.postMessage({\"jupyterEvent\": \"custom.exercise_interaction\", \"data\": {\"outcomeType\": 1, \"valueTowardsCompletion\": 0.2, \"interactionType\": 1, \"questionType\": 4, \"questionId\": \"4_AddingBooleans\", \"learnToolsVersion\": \"0.3.4\", \"failureMessage\": \"\", \"exceptionClass\": \"\", \"trace\": \"\"}}, \"*\")"
      ],
      "text/plain": [
       "<IPython.core.display.Javascript object>"
      ]
     },
     "metadata": {},
     "output_type": "display_data"
    },
    {
     "data": {
      "text/markdown": [
       "<span style=\"color:#33cc33\">Correct:</span> \n",
       "\n",
       "When you add booleans, adding `False` is equivalent to adding 0, and adding `True` is equivalent to adding 1."
      ],
      "text/plain": [
       "Correct: \n",
       "\n",
       "When you add booleans, adding `False` is equivalent to adding 0, and adding `True` is equivalent to adding 1."
      ]
     },
     "metadata": {},
     "output_type": "display_data"
    }
   ],
   "source": [
    "# Check your answer (Run this code cell to receive credit!)\n",
    "q4.check()"
   ]
  },
  {
   "cell_type": "markdown",
   "id": "9af8c5ec",
   "metadata": {
    "papermill": {
     "duration": 0.006311,
     "end_time": "2025-02-25T21:53:37.666111",
     "exception": false,
     "start_time": "2025-02-25T21:53:37.659800",
     "status": "completed"
    },
    "tags": []
   },
   "source": [
    "# 🌶️ Question 5\n",
    "\n",
    "You own an online shop where you sell rings with custom engravings.  You offer both gold plated and solid gold rings.\n",
    "- Gold plated rings have a base cost of \\\\$50, and you charge \\\\$7 per engraved unit.  \n",
    "- Solid gold rings have a base cost of \\\\$100, and you charge \\\\$10 per engraved unit.\n",
    "- Spaces and punctuation are counted as engraved units.\n",
    "\n",
    "Write a function `cost_of_project()` that takes two arguments:\n",
    "- `engraving` - a Python string with the text of the engraving\n",
    "- `solid_gold` - a Boolean that indicates whether the ring is solid gold\n",
    "\n",
    "It should return the cost of the project.  This question should be fairly challenging, and you may need a hint."
   ]
  },
  {
   "cell_type": "code",
   "execution_count": 11,
   "id": "908dd0e8",
   "metadata": {
    "execution": {
     "iopub.execute_input": "2025-02-25T21:53:37.680676Z",
     "iopub.status.busy": "2025-02-25T21:53:37.680251Z",
     "iopub.status.idle": "2025-02-25T21:53:37.688673Z",
     "shell.execute_reply": "2025-02-25T21:53:37.687697Z"
    },
    "papermill": {
     "duration": 0.017498,
     "end_time": "2025-02-25T21:53:37.690394",
     "exception": false,
     "start_time": "2025-02-25T21:53:37.672896",
     "status": "completed"
    },
    "tags": []
   },
   "outputs": [
    {
     "data": {
      "application/javascript": [
       "parent.postMessage({\"jupyterEvent\": \"custom.exercise_interaction\", \"data\": {\"outcomeType\": 1, \"valueTowardsCompletion\": 0.2, \"interactionType\": 1, \"questionType\": 2, \"questionId\": \"5_CustomEngravings\", \"learnToolsVersion\": \"0.3.4\", \"failureMessage\": \"\", \"exceptionClass\": \"\", \"trace\": \"\"}}, \"*\")"
      ],
      "text/plain": [
       "<IPython.core.display.Javascript object>"
      ]
     },
     "metadata": {},
     "output_type": "display_data"
    },
    {
     "data": {
      "text/markdown": [
       "<span style=\"color:#33cc33\">Correct</span>"
      ],
      "text/plain": [
       "Correct"
      ]
     },
     "metadata": {},
     "output_type": "display_data"
    }
   ],
   "source": [
    "def cost_of_project(engraving, solid_gold):\n",
    " \n",
    "    # Cost of gold plated rings\n",
    "\n",
    "    plated_ring = (not solid_gold) * (50 + 7 * len(engraving))\n",
    "\n",
    "    # Cost of solid gold rings\n",
    "\n",
    "    solid_ring = solid_gold * (100 + 10 * len(engraving))\n",
    "    \n",
    "    cost = solid_ring + plated_ring\n",
    "    return cost\n",
    "\n",
    "# Check your answer\n",
    "q5.check()"
   ]
  },
  {
   "cell_type": "code",
   "execution_count": 12,
   "id": "f7132678",
   "metadata": {
    "execution": {
     "iopub.execute_input": "2025-02-25T21:53:37.704944Z",
     "iopub.status.busy": "2025-02-25T21:53:37.704614Z",
     "iopub.status.idle": "2025-02-25T21:53:37.708171Z",
     "shell.execute_reply": "2025-02-25T21:53:37.707282Z"
    },
    "papermill": {
     "duration": 0.012607,
     "end_time": "2025-02-25T21:53:37.709788",
     "exception": false,
     "start_time": "2025-02-25T21:53:37.697181",
     "status": "completed"
    },
    "tags": []
   },
   "outputs": [],
   "source": [
    "# Uncomment to see a hint\n",
    "#q5.hint()\n",
    "\n",
    "# Uncomment to view the solution\n",
    "#q5.solution()"
   ]
  },
  {
   "cell_type": "markdown",
   "id": "d5f7a63e",
   "metadata": {
    "papermill": {
     "duration": 0.006512,
     "end_time": "2025-02-25T21:53:37.723056",
     "exception": false,
     "start_time": "2025-02-25T21:53:37.716544",
     "status": "completed"
    },
    "tags": []
   },
   "source": [
    "Run the next code cell to calculate the cost of engraving `Charlie+Denver` on a solid gold ring."
   ]
  },
  {
   "cell_type": "code",
   "execution_count": 13,
   "id": "9776fd17",
   "metadata": {
    "execution": {
     "iopub.execute_input": "2025-02-25T21:53:37.737331Z",
     "iopub.status.busy": "2025-02-25T21:53:37.736967Z",
     "iopub.status.idle": "2025-02-25T21:53:37.741817Z",
     "shell.execute_reply": "2025-02-25T21:53:37.740669Z"
    },
    "papermill": {
     "duration": 0.013901,
     "end_time": "2025-02-25T21:53:37.743476",
     "exception": false,
     "start_time": "2025-02-25T21:53:37.729575",
     "status": "completed"
    },
    "tags": []
   },
   "outputs": [
    {
     "name": "stdout",
     "output_type": "stream",
     "text": [
      "240\n"
     ]
    }
   ],
   "source": [
    "project_one = cost_of_project(\"Charlie+Denver\", True)\n",
    "print(project_one)"
   ]
  },
  {
   "cell_type": "markdown",
   "id": "f8cefb64",
   "metadata": {
    "papermill": {
     "duration": 0.00639,
     "end_time": "2025-02-25T21:53:37.756585",
     "exception": false,
     "start_time": "2025-02-25T21:53:37.750195",
     "status": "completed"
    },
    "tags": []
   },
   "source": [
    "Use the next code cell to calculate the cost of engraving `08/10/2000` on a gold plated ring."
   ]
  },
  {
   "cell_type": "code",
   "execution_count": 14,
   "id": "fb05ac8c",
   "metadata": {
    "execution": {
     "iopub.execute_input": "2025-02-25T21:53:37.771062Z",
     "iopub.status.busy": "2025-02-25T21:53:37.770707Z",
     "iopub.status.idle": "2025-02-25T21:53:37.775966Z",
     "shell.execute_reply": "2025-02-25T21:53:37.774737Z"
    },
    "papermill": {
     "duration": 0.014558,
     "end_time": "2025-02-25T21:53:37.777717",
     "exception": false,
     "start_time": "2025-02-25T21:53:37.763159",
     "status": "completed"
    },
    "tags": []
   },
   "outputs": [
    {
     "name": "stdout",
     "output_type": "stream",
     "text": [
      "120\n"
     ]
    }
   ],
   "source": [
    "project_two = cost_of_project(\"08/10/2000\", False)\n",
    "print(project_two)"
   ]
  },
  {
   "cell_type": "markdown",
   "id": "1b289ac5",
   "metadata": {
    "papermill": {
     "duration": 0.00665,
     "end_time": "2025-02-25T21:53:37.791382",
     "exception": false,
     "start_time": "2025-02-25T21:53:37.784732",
     "status": "completed"
    },
    "tags": []
   },
   "source": [
    "# Keep going\n",
    "\n",
    "Continue to the next lesson to **[learn about conditions and conditional statements](https://www.kaggle.com/alexisbcook/conditions-and-conditional-statements)**."
   ]
  },
  {
   "cell_type": "markdown",
   "id": "475efaa7",
   "metadata": {
    "papermill": {
     "duration": 0.006423,
     "end_time": "2025-02-25T21:53:37.804589",
     "exception": false,
     "start_time": "2025-02-25T21:53:37.798166",
     "status": "completed"
    },
    "tags": []
   },
   "source": [
    "---\n",
    "\n",
    "\n",
    "\n",
    "\n",
    "*Have questions or comments? Visit the [course discussion forum](https://www.kaggle.com/learn/intro-to-programming/discussion) to chat with other learners.*"
   ]
  }
 ],
 "metadata": {
  "kaggle": {
   "accelerator": "none",
   "dataSources": [],
   "isGpuEnabled": false,
   "isInternetEnabled": false,
   "language": "python",
   "sourceType": "notebook"
  },
  "kernelspec": {
   "display_name": "Python 3",
   "language": "python",
   "name": "python3"
  },
  "language_info": {
   "codemirror_mode": {
    "name": "ipython",
    "version": 3
   },
   "file_extension": ".py",
   "mimetype": "text/x-python",
   "name": "python",
   "nbconvert_exporter": "python",
   "pygments_lexer": "ipython3",
   "version": "3.10.12"
  },
  "papermill": {
   "default_parameters": {},
   "duration": 5.02195,
   "end_time": "2025-02-25T21:53:38.431124",
   "environment_variables": {},
   "exception": null,
   "input_path": "__notebook__.ipynb",
   "output_path": "__notebook__.ipynb",
   "parameters": {},
   "start_time": "2025-02-25T21:53:33.409174",
   "version": "2.3.3"
  }
 },
 "nbformat": 4,
 "nbformat_minor": 5
}
