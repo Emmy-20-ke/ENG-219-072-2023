{
 "cells": [
  {
   "cell_type": "markdown",
   "id": "d233198d",
   "metadata": {
    "papermill": {
     "duration": 0.006572,
     "end_time": "2025-02-25T22:01:57.748502",
     "exception": false,
     "start_time": "2025-02-25T22:01:57.741930",
     "status": "completed"
    },
    "tags": []
   },
   "source": [
    "**This notebook is an exercise in the [Intro to Programming](https://www.kaggle.com/learn/intro-to-programming) course.  You can reference the tutorial at [this link](https://www.kaggle.com/alexisbcook/conditions-and-conditional-statements).**\n",
    "\n",
    "---\n"
   ]
  },
  {
   "cell_type": "markdown",
   "id": "6f2f2335",
   "metadata": {
    "papermill": {
     "duration": 0.005468,
     "end_time": "2025-02-25T22:01:57.759997",
     "exception": false,
     "start_time": "2025-02-25T22:01:57.754529",
     "status": "completed"
    },
    "tags": []
   },
   "source": [
    "In the tutorial, you learned about conditions and conditional statements. In this exercise, you will use what you learned to answer several questions.\n",
    "\n",
    "# Set up the notebook\n",
    "\n",
    "Run the next code cell without changes to set up the notebook."
   ]
  },
  {
   "cell_type": "code",
   "execution_count": 1,
   "id": "22731054",
   "metadata": {
    "execution": {
     "iopub.execute_input": "2025-02-25T22:01:57.773114Z",
     "iopub.status.busy": "2025-02-25T22:01:57.772643Z",
     "iopub.status.idle": "2025-02-25T22:01:58.886109Z",
     "shell.execute_reply": "2025-02-25T22:01:58.884809Z"
    },
    "papermill": {
     "duration": 1.122244,
     "end_time": "2025-02-25T22:01:58.887980",
     "exception": false,
     "start_time": "2025-02-25T22:01:57.765736",
     "status": "completed"
    },
    "tags": []
   },
   "outputs": [
    {
     "name": "stdout",
     "output_type": "stream",
     "text": [
      "Setup complete.\n"
     ]
    }
   ],
   "source": [
    "from learntools.core import binder\n",
    "binder.bind(globals())\n",
    "from learntools.intro_to_programming.ex4 import *\n",
    "print('Setup complete.')"
   ]
  },
  {
   "cell_type": "markdown",
   "id": "894a2950",
   "metadata": {
    "papermill": {
     "duration": 0.005539,
     "end_time": "2025-02-25T22:01:58.899660",
     "exception": false,
     "start_time": "2025-02-25T22:01:58.894121",
     "status": "completed"
    },
    "tags": []
   },
   "source": [
    "# Question 1\n",
    "\n",
    "You work at a college admissions office.  When inspecting a dataset of college applicants, you notice that some students have represented their grades with letters (`\"A\"`, `\"B\"`, `\"C\"`, `\"D\"`, `\"F\"`), whereas others have represented their grades with a number between 0 and 100.\n",
    "\n",
    "You realize that for consistency, all of the grades should be formatted in the same way, and you decide to format them all as letters.  For the conversion, you decide to assign:\n",
    "- `\"A\"` - any grade 90-100, inclusive\n",
    "- `\"B\"` - any grade 80-89, inclusive\n",
    "- `\"C\"` - any grade 70-79, inclusive\n",
    "- `\"D\"` - any grade 60-69, inclusive\n",
    "- `\"F\"` - any grade <60\n",
    "\n",
    "Write a function `get_grade()` that takes as input:\n",
    "- `score` - an integer 0-100 corresponding to a numerical grade\n",
    "\n",
    "It should return a Python string with the letter grade that it corresponds to.  For instance,\n",
    "- A score of 85 corresponds to a B grade.  In other words, `get_grade(85)` should return `\"B\"`.\n",
    "- A score of 49 corresponds to an F grade.  In other words, `get_grade(49)` should return `\"F\"`.\n",
    "\n",
    "Make sure that when supplying the grade that is returned by the function, it is enclosed in quotes.  (For instance, if you want to return `\"A\"`, you should write `return \"A\"` and not `return A`.)"
   ]
  },
  {
   "cell_type": "code",
   "execution_count": 2,
   "id": "b79a7c81",
   "metadata": {
    "execution": {
     "iopub.execute_input": "2025-02-25T22:01:58.912975Z",
     "iopub.status.busy": "2025-02-25T22:01:58.912437Z",
     "iopub.status.idle": "2025-02-25T22:01:58.918373Z",
     "shell.execute_reply": "2025-02-25T22:01:58.917254Z"
    },
    "papermill": {
     "duration": 0.014612,
     "end_time": "2025-02-25T22:01:58.920116",
     "exception": false,
     "start_time": "2025-02-25T22:01:58.905504",
     "status": "completed"
    },
    "tags": []
   },
   "outputs": [],
   "source": [
    "# TODO: Edit the function to return the correct grade for different scores\n",
    "def get_grade(score):\n",
    "    if score >= 90 and score <= 100 :\n",
    "        grade = \"A\"\n",
    "    elif score >= 80 and score <= 89 :\n",
    "        grade = \"B\"\n",
    "    elif score >= 70 and score <= 79 :\n",
    "        grade = \"C\"\n",
    "    elif score >= 60 and score <= 69 :\n",
    "        grade = \"D\"\n",
    "    else:\n",
    "        grade = \"F\"\n",
    "\n",
    "    return grade"
   ]
  },
  {
   "cell_type": "code",
   "execution_count": 3,
   "id": "de48f95c",
   "metadata": {
    "execution": {
     "iopub.execute_input": "2025-02-25T22:01:58.933400Z",
     "iopub.status.busy": "2025-02-25T22:01:58.932982Z",
     "iopub.status.idle": "2025-02-25T22:01:58.937360Z",
     "shell.execute_reply": "2025-02-25T22:01:58.936229Z"
    },
    "papermill": {
     "duration": 0.012842,
     "end_time": "2025-02-25T22:01:58.939125",
     "exception": false,
     "start_time": "2025-02-25T22:01:58.926283",
     "status": "completed"
    },
    "tags": []
   },
   "outputs": [],
   "source": [
    "# Uncomment to see a hint\n",
    "#q1.hint()\n",
    "\n",
    "# Uncomment to see the solution\n",
    "#q1.solution()"
   ]
  },
  {
   "cell_type": "markdown",
   "id": "f040da4b",
   "metadata": {
    "papermill": {
     "duration": 0.006005,
     "end_time": "2025-02-25T22:01:58.951094",
     "exception": false,
     "start_time": "2025-02-25T22:01:58.945089",
     "status": "completed"
    },
    "tags": []
   },
   "source": [
    "# Question 2\n",
    "\n",
    "In the exercise for the previous lesson, you wrote a function `cost_of_project()` that estimated the price of rings for an online shop that sells rings with custom engravings.  This function did not use conditional statements.  In this exercise, you will rewrite the function to use conditional statements.  Recall that the online shop has the following price structure:\n",
    "- Gold plated rings have a base cost of \\\\$50, and you charge \\\\$7 per engraved unit.  \n",
    "- Solid gold rings have a base cost of \\\\$100, and you charge \\\\$10 per engraved unit.\n",
    "- Spaces and punctuation are counted as engraved units.\n",
    "\n",
    "Your function `cost_of_project()` takes two arguments:\n",
    "- `engraving` - a Python string with the text of the engraving\n",
    "- `solid_gold` - a Boolean that indicates whether the ring is solid gold\n",
    "\n",
    "It should return the cost of the project.  \n",
    "\n",
    "The function has been partially completed for you, and you need to fill in the blanks to complete the function."
   ]
  },
  {
   "cell_type": "code",
   "execution_count": 4,
   "id": "49276686",
   "metadata": {
    "execution": {
     "iopub.execute_input": "2025-02-25T22:01:58.964272Z",
     "iopub.status.busy": "2025-02-25T22:01:58.963892Z",
     "iopub.status.idle": "2025-02-25T22:01:58.973030Z",
     "shell.execute_reply": "2025-02-25T22:01:58.972011Z"
    },
    "papermill": {
     "duration": 0.017768,
     "end_time": "2025-02-25T22:01:58.974758",
     "exception": false,
     "start_time": "2025-02-25T22:01:58.956990",
     "status": "completed"
    },
    "tags": []
   },
   "outputs": [
    {
     "data": {
      "application/javascript": [
       "parent.postMessage({\"jupyterEvent\": \"custom.exercise_interaction\", \"data\": {\"outcomeType\": 1, \"valueTowardsCompletion\": 0.2, \"interactionType\": 1, \"questionType\": 2, \"questionId\": \"2_CostProjectPartDeux\", \"learnToolsVersion\": \"0.3.4\", \"failureMessage\": \"\", \"exceptionClass\": \"\", \"trace\": \"\"}}, \"*\")"
      ],
      "text/plain": [
       "<IPython.core.display.Javascript object>"
      ]
     },
     "metadata": {},
     "output_type": "display_data"
    },
    {
     "data": {
      "text/markdown": [
       "<span style=\"color:#33cc33\">Correct</span>"
      ],
      "text/plain": [
       "Correct"
      ]
     },
     "metadata": {},
     "output_type": "display_data"
    }
   ],
   "source": [
    "def cost_of_project(engraving, solid_gold):\n",
    "    if solid_gold == True:\n",
    "        cost = 100 + (10*len(engraving))\n",
    "    else:\n",
    "        cost = 50 + (7*len(engraving))\n",
    "    return cost\n",
    "\n",
    "# Check your answer\n",
    "q2.check()"
   ]
  },
  {
   "cell_type": "code",
   "execution_count": 5,
   "id": "6df4f4e3",
   "metadata": {
    "execution": {
     "iopub.execute_input": "2025-02-25T22:01:58.988289Z",
     "iopub.status.busy": "2025-02-25T22:01:58.987882Z",
     "iopub.status.idle": "2025-02-25T22:01:58.991719Z",
     "shell.execute_reply": "2025-02-25T22:01:58.990757Z"
    },
    "papermill": {
     "duration": 0.012455,
     "end_time": "2025-02-25T22:01:58.993525",
     "exception": false,
     "start_time": "2025-02-25T22:01:58.981070",
     "status": "completed"
    },
    "tags": []
   },
   "outputs": [],
   "source": [
    "# Uncomment to see a hint\n",
    "#q2.hint()\n",
    "\n",
    "# Uncomment to see the solution\n",
    "#q2.solution()"
   ]
  },
  {
   "cell_type": "markdown",
   "id": "772c5e2f",
   "metadata": {
    "papermill": {
     "duration": 0.006731,
     "end_time": "2025-02-25T22:01:59.007357",
     "exception": false,
     "start_time": "2025-02-25T22:01:59.000626",
     "status": "completed"
    },
    "tags": []
   },
   "source": [
    "# Question 3\n",
    "\n",
    "You are a programmer at a water agency.  Recently, you have been tasked to write a function `get_water_bill()` that takes as input:\n",
    "- `num_gallons` = the number of gallons of water that a customer used that month.  (This will always be an integer with no decimal part.)\n",
    "\n",
    "It should output the water bill.  \n",
    "\n",
    "The water agency uses this pricing structure:\n",
    "<table style=\"width: 100%;\">\n",
    "<tbody>\n",
    "<tr><th><b>Tier</b></th><th><b>Amount in gallons</b></th><th><b>Price per 1000 gallons</b></th></tr>\n",
    "<tr>\n",
    "<td>Tier 1</td>\n",
    "<td>0 - 8,000</td>\n",
    "<td>\\$5</td>\n",
    "</tr>\n",
    "<tr>\n",
    "<td>Tier 2</td>\n",
    "<td>8,001 - 22,000</td>\n",
    "<td>\\$6</td>\n",
    "</tr>\n",
    "<tr>\n",
    "<td>Tier 3</td>\n",
    "<td>22,001 - 30,000</td>\n",
    "<td>\\$7</td>\n",
    "</tr>\n",
    "<tr>\n",
    "<td>Tier 4</td>\n",
    "<td>30,001+</td>\n",
    "<td>\\$10</td>\n",
    "</tr>\n",
    "</tbody>\n",
    "</table>\n",
    "\n",
    "For example: \n",
    "- Someone who uses 10,000 gallons of water in a month is placed in Tier 2, and needs to pay a water bill of \\\\$6 * 10 = \\\\$60.  In other words, `get_water_bill(10000)` should return `60.0`.\n",
    "- Someone who uses 25,000 gallons of water in a month is placed in Tier 3, and needs to pay a water bill of \\\\$7 * 25 = \\\\$175.  In other words, `get_water_bill(25000)` should return `175.0`.\n",
    "\n",
    "**Do not round your answer.**  So, your answer might return fractions of a penny."
   ]
  },
  {
   "cell_type": "code",
   "execution_count": 6,
   "id": "fec8ac31",
   "metadata": {
    "execution": {
     "iopub.execute_input": "2025-02-25T22:01:59.021369Z",
     "iopub.status.busy": "2025-02-25T22:01:59.020999Z",
     "iopub.status.idle": "2025-02-25T22:01:59.029846Z",
     "shell.execute_reply": "2025-02-25T22:01:59.028698Z"
    },
    "papermill": {
     "duration": 0.017617,
     "end_time": "2025-02-25T22:01:59.031529",
     "exception": false,
     "start_time": "2025-02-25T22:01:59.013912",
     "status": "completed"
    },
    "tags": []
   },
   "outputs": [
    {
     "data": {
      "application/javascript": [
       "parent.postMessage({\"jupyterEvent\": \"custom.exercise_interaction\", \"data\": {\"outcomeType\": 1, \"valueTowardsCompletion\": 0.2, \"interactionType\": 1, \"questionType\": 2, \"questionId\": \"3_GetWaterBill\", \"learnToolsVersion\": \"0.3.4\", \"failureMessage\": \"\", \"exceptionClass\": \"\", \"trace\": \"\"}}, \"*\")"
      ],
      "text/plain": [
       "<IPython.core.display.Javascript object>"
      ]
     },
     "metadata": {},
     "output_type": "display_data"
    },
    {
     "data": {
      "text/markdown": [
       "<span style=\"color:#33cc33\">Correct</span>"
      ],
      "text/plain": [
       "Correct"
      ]
     },
     "metadata": {},
     "output_type": "display_data"
    }
   ],
   "source": [
    "# TODO: Edit the function to return the correct bill for different\n",
    "# values of num_gallons\n",
    "def get_water_bill(num_gallons):\n",
    "    # Tier 1 billings\n",
    "    if num_gallons >= 0 and num_gallons <= 8000:\n",
    "        bill = (num_gallons/1000) * 5\n",
    "    # Tier 2 billings\n",
    "    elif num_gallons >= 8001 and num_gallons <= 22000:\n",
    "        bill = (num_gallons/1000) * 6\n",
    "    # Tier 3 billings\n",
    "    elif num_gallons >= 22001 and num_gallons <= 30000:\n",
    "        bill = (num_gallons/1000) * 7\n",
    "    # Tier 4 billings\n",
    "    else:\n",
    "        bill = (num_gallons/1000) * 10\n",
    "    return bill\n",
    "\n",
    "# Check your answer\n",
    "q3.check()"
   ]
  },
  {
   "cell_type": "code",
   "execution_count": 7,
   "id": "bb4ed92b",
   "metadata": {
    "execution": {
     "iopub.execute_input": "2025-02-25T22:01:59.045217Z",
     "iopub.status.busy": "2025-02-25T22:01:59.044835Z",
     "iopub.status.idle": "2025-02-25T22:01:59.049156Z",
     "shell.execute_reply": "2025-02-25T22:01:59.048003Z"
    },
    "papermill": {
     "duration": 0.0132,
     "end_time": "2025-02-25T22:01:59.050975",
     "exception": false,
     "start_time": "2025-02-25T22:01:59.037775",
     "status": "completed"
    },
    "tags": []
   },
   "outputs": [],
   "source": [
    "# Uncomment to see a hint\n",
    "#q3.hint()\n",
    "\n",
    "# Uncomment to see the solution\n",
    "#q3.solution()"
   ]
  },
  {
   "cell_type": "markdown",
   "id": "29a3b566",
   "metadata": {
    "papermill": {
     "duration": 0.006367,
     "end_time": "2025-02-25T22:01:59.064042",
     "exception": false,
     "start_time": "2025-02-25T22:01:59.057675",
     "status": "completed"
    },
    "tags": []
   },
   "source": [
    "# Question 4\n",
    "\n",
    "You work for a company that provides data services.  For \\\\$100/month, your company provides 15 gigabytes (GB) of data.  Then, any additional data is billed at \\\\$0.10/MB (or \\\\$100/GB, since 1,000 MB are in 1 GB).\n",
    "\n",
    "Use the next code cell to write a function `get_phone_bill()` that takes as input:\n",
    "- `gb` = number of GB that the customer used in a month\n",
    "\n",
    "It should return the customer's total phone bill.\n",
    "\n",
    "For instance:\n",
    "- A customer who uses 10 GB of data in one month is billed only \\\\$100, since the usage stayed under 15 GB.  In other words, `get_phone_bill(10)` should return `100`.\n",
    "- A customer who uses 15.1 GB (or 15 GB + 100 MB) of data in one month has gone over by .1 GB, so they must pay \\\\$100 (cost of plan), plus \\\\$0.10 * 100 = \\\\$10, for a total bill of \\\\$110.  In other words, `get_phone_bill(15.1)` should return `110`.\n",
    "\n",
    "Do not round your answer."
   ]
  },
  {
   "cell_type": "code",
   "execution_count": 8,
   "id": "256fef44",
   "metadata": {
    "execution": {
     "iopub.execute_input": "2025-02-25T22:01:59.077860Z",
     "iopub.status.busy": "2025-02-25T22:01:59.077345Z",
     "iopub.status.idle": "2025-02-25T22:01:59.086153Z",
     "shell.execute_reply": "2025-02-25T22:01:59.085016Z"
    },
    "papermill": {
     "duration": 0.017937,
     "end_time": "2025-02-25T22:01:59.088160",
     "exception": false,
     "start_time": "2025-02-25T22:01:59.070223",
     "status": "completed"
    },
    "tags": []
   },
   "outputs": [
    {
     "data": {
      "application/javascript": [
       "parent.postMessage({\"jupyterEvent\": \"custom.exercise_interaction\", \"data\": {\"outcomeType\": 1, \"valueTowardsCompletion\": 0.2, \"interactionType\": 1, \"questionType\": 2, \"questionId\": \"4_GetPhoneBill\", \"learnToolsVersion\": \"0.3.4\", \"failureMessage\": \"\", \"exceptionClass\": \"\", \"trace\": \"\"}}, \"*\")"
      ],
      "text/plain": [
       "<IPython.core.display.Javascript object>"
      ]
     },
     "metadata": {},
     "output_type": "display_data"
    },
    {
     "data": {
      "text/markdown": [
       "<span style=\"color:#33cc33\">Correct</span>"
      ],
      "text/plain": [
       "Correct"
      ]
     },
     "metadata": {},
     "output_type": "display_data"
    }
   ],
   "source": [
    "# TODO: Edit the function to return the correct bill for different\n",
    "# values of GB\n",
    "def get_phone_bill(gb):\n",
    "    if gb <= 15 :\n",
    "        bill = 100\n",
    "    else:\n",
    "        bill = 100 + ((gb - 15) * 100)\n",
    "    return bill\n",
    "\n",
    "# Check your answer\n",
    "q4.check()"
   ]
  },
  {
   "cell_type": "code",
   "execution_count": 9,
   "id": "1f30ff9a",
   "metadata": {
    "execution": {
     "iopub.execute_input": "2025-02-25T22:01:59.103728Z",
     "iopub.status.busy": "2025-02-25T22:01:59.103327Z",
     "iopub.status.idle": "2025-02-25T22:01:59.107570Z",
     "shell.execute_reply": "2025-02-25T22:01:59.106426Z"
    },
    "papermill": {
     "duration": 0.013916,
     "end_time": "2025-02-25T22:01:59.109656",
     "exception": false,
     "start_time": "2025-02-25T22:01:59.095740",
     "status": "completed"
    },
    "tags": []
   },
   "outputs": [],
   "source": [
    "# Uncomment to see a hint\n",
    "#q4.hint()\n",
    "\n",
    "# Uncomment to see the solution\n",
    "#q4.solution()"
   ]
  },
  {
   "cell_type": "markdown",
   "id": "aaaff252",
   "metadata": {
    "papermill": {
     "duration": 0.006254,
     "end_time": "2025-02-25T22:01:59.122628",
     "exception": false,
     "start_time": "2025-02-25T22:01:59.116374",
     "status": "completed"
    },
    "tags": []
   },
   "source": [
    "# 🌶️ Question 5\n",
    "\n",
    "In Mexico, foods and beverages that are high in saturated fat, trans fat, sugar, sodium, and/or calories appear with warning labels that are designed to help consumers make healthy food choices.\n",
    "\n",
    "For instance, the [box of cookies](https://world.openfoodfacts.org/product/7501000673209/florentinas-gamesa) in the image below appears with two labels (in the upper right corner):\n",
    "- EXCESO CALORÍAS (in English, EXCESS CALORIES)\n",
    "- EXCESO AZÚCARES (in English, EXCESS SUGAR)\n",
    "\n",
    "<center><img src=\"https://storage.googleapis.com/kaggle-media/learn/images/VXYKHnM.png\" alt=\"drawing\" width=\"500\"/></center>\n",
    "\n",
    "In this question, you'll work with a function `get_labels()` that takes the nutritional details about a food item and prints the needed warning labels.  This function takes several inputs:\n",
    "- `food_type` = one of `\"solid\"` or `\"liquid\"`\n",
    "- `serving_size` = size of one serving (if solid, in grams; if liquid, in milliliters)\n",
    "- `calories_per_serving` = calories in one serving\n",
    "- `saturated_fat_g` = grams of saturated fat in one serving\n",
    "- `trans_fat_g` = grams of trans fat in one serving\n",
    "- `sodium_mg` = mg of sodium in one serving\n",
    "- `sugars_g` = grams of sugar in one serving\n",
    "\n",
    "Note that some of the code here should feel unfamiliar to you, since we have not shared the details of how some of the functions like `excess_sugar()` or `excess_saturated_fat()` work.  But at a high level, these are functions that return a value of `True` if the food is deemed to have an excess of sugar or saturated fat, respectively.  These functions are used within the `get_labels()` function, and whenever there is an excess (of sugar or saturated fat, but also of trans fat, sodium, or calories), it prints the corresponding label."
   ]
  },
  {
   "cell_type": "code",
   "execution_count": 10,
   "id": "d7c5c6f8",
   "metadata": {
    "execution": {
     "iopub.execute_input": "2025-02-25T22:01:59.136841Z",
     "iopub.status.busy": "2025-02-25T22:01:59.136465Z",
     "iopub.status.idle": "2025-02-25T22:01:59.145666Z",
     "shell.execute_reply": "2025-02-25T22:01:59.144408Z"
    },
    "papermill": {
     "duration": 0.018524,
     "end_time": "2025-02-25T22:01:59.147645",
     "exception": false,
     "start_time": "2025-02-25T22:01:59.129121",
     "status": "completed"
    },
    "tags": []
   },
   "outputs": [],
   "source": [
    "# import functions needed to make get_labels work\n",
    "from learntools.intro_to_programming.ex4q5 import excess_sugar, excess_saturated_fat, excess_trans_fat, excess_sodium, excess_calories\n",
    "\n",
    "def get_labels(food_type, serving_size, calories_per_serving, saturated_fat_g, trans_fat_g, sodium_mg, sugars_g):\n",
    "    # Print messages based on findings\n",
    "    if excess_sugar(sugars_g, calories_per_serving) == True:\n",
    "        print(\"EXCESO AZÚCARES / EXCESS SUGAR\")\n",
    "    if excess_saturated_fat(saturated_fat_g, calories_per_serving) == True:\n",
    "        print(\"EXCESO GRASAS SATURADAS / EXCESS SATURATED FAT\")\n",
    "    if excess_trans_fat(trans_fat_g, calories_per_serving) == True:\n",
    "        print(\"EXCESO GRASAS TRANS / EXCESS TRANS FAT\")\n",
    "    if excess_sodium(calories_per_serving, sodium_mg) == True:\n",
    "        print(\"EXCESO SODIO / EXCESS SODIUM\")\n",
    "    if excess_calories(food_type, calories_per_serving, serving_size) == True:\n",
    "        print(\"EXCESO CALORÍAS / EXCESS CALORIES\")"
   ]
  },
  {
   "cell_type": "markdown",
   "id": "36644d1e",
   "metadata": {
    "papermill": {
     "duration": 0.007273,
     "end_time": "2025-02-25T22:01:59.162036",
     "exception": false,
     "start_time": "2025-02-25T22:01:59.154763",
     "status": "completed"
    },
    "tags": []
   },
   "source": [
    "The next code cell demonstrates how to use `get_labels()` to get the warning labels that the food item should contain.  We begin with [bologna](https://world.openfoodfacts.org/product/4099100179378/bologna).  Here is [an image](https://storage.googleapis.com/kaggle-media/learn/images/Cfcx72e.png) with all of the nutritional information.  Note that for this food,\n",
    "- `food_type = \"solid\"` (because bologna is a solid and not a liquid)\n",
    "- `serving_size = 32` (the serving size is 32 grams)\n",
    "- `calories_per_serving = 110` (there are 110 calories per serving)\n",
    "- `saturated_fat_g = 2.5` (there are 2.5 grams of saturated fat per serving)\n",
    "- `trans_fat_g = 0` (there are 0 grams of trans fat per serving)\n",
    "- `sodium_mg = 400` (there are 400 mg of sodium per serving)\n",
    "- `sugars_g = 1` (the nutrition facts say <1g, but we will round it up to 1 gram per serving to be safe)\n",
    "\n",
    "By supplying all of these values to the function, we can print the warning labels."
   ]
  },
  {
   "cell_type": "code",
   "execution_count": 11,
   "id": "b2c85d0d",
   "metadata": {
    "execution": {
     "iopub.execute_input": "2025-02-25T22:01:59.177135Z",
     "iopub.status.busy": "2025-02-25T22:01:59.176806Z",
     "iopub.status.idle": "2025-02-25T22:01:59.182992Z",
     "shell.execute_reply": "2025-02-25T22:01:59.181643Z"
    },
    "papermill": {
     "duration": 0.015579,
     "end_time": "2025-02-25T22:01:59.184996",
     "exception": false,
     "start_time": "2025-02-25T22:01:59.169417",
     "status": "completed"
    },
    "tags": []
   },
   "outputs": [
    {
     "name": "stdout",
     "output_type": "stream",
     "text": [
      "EXCESO GRASAS SATURADAS / EXCESS SATURATED FAT\n",
      "EXCESO SODIO / EXCESS SODIUM\n",
      "EXCESO CALORÍAS / EXCESS CALORIES\n"
     ]
    }
   ],
   "source": [
    "# bologna https://world.openfoodfacts.org/product/4099100179378/bologna\n",
    "get_labels(\"solid\", 32, 110, 2.5, 0, 400, 1)"
   ]
  },
  {
   "cell_type": "markdown",
   "id": "2142ba03",
   "metadata": {
    "papermill": {
     "duration": 0.006181,
     "end_time": "2025-02-25T22:01:59.197860",
     "exception": false,
     "start_time": "2025-02-25T22:01:59.191679",
     "status": "completed"
    },
    "tags": []
   },
   "source": [
    "This bologna has three labels, printed in the output above.\n",
    "\n",
    "For the rest of this question, you will use the same `get_labels()` function to determine the labels for more foods.  This question is designed to help you get practice with feeling comfortable with code that other people have written, and where you don't have time to review every single line of code before interacting with it.  For instance, when you take the [Intro to Machine Learning course](http://www.kaggle.com/learn/intro-to-machine-learning), you'll work with a Python package called \"scikit-learn\", which is a large collection of code that you'll learn how to run without reviewing all of the code in detail (as it would take too long, and you can trust that it was implemented correctly).\n",
    "\n",
    "In general, as you continue coding in Python, you will often be running code that other people have written.  This is common practice for advanced programmers.\n",
    "\n",
    "In the next code cell, fill in the values for [this cereal](https://world.openfoodfacts.org/product/7501008023624/zucaritas-kellogg-s).  Here is [an image](https://storage.googleapis.com/kaggle-media/learn/images/MUxzHVU.png) with all of the nutritional information.\n",
    "\n",
    "**Note**: running the line of code below as-is will return an error.  You have to fill in the nutritional values first."
   ]
  },
  {
   "cell_type": "code",
   "execution_count": 12,
   "id": "99404da6",
   "metadata": {
    "execution": {
     "iopub.execute_input": "2025-02-25T22:01:59.212052Z",
     "iopub.status.busy": "2025-02-25T22:01:59.211700Z",
     "iopub.status.idle": "2025-02-25T22:01:59.217777Z",
     "shell.execute_reply": "2025-02-25T22:01:59.216557Z"
    },
    "papermill": {
     "duration": 0.015249,
     "end_time": "2025-02-25T22:01:59.219563",
     "exception": false,
     "start_time": "2025-02-25T22:01:59.204314",
     "status": "completed"
    },
    "tags": []
   },
   "outputs": [
    {
     "name": "stdout",
     "output_type": "stream",
     "text": [
      "EXCESO AZÚCARES / EXCESS SUGAR\n",
      "EXCESO SODIO / EXCESS SODIUM\n",
      "EXCESO CALORÍAS / EXCESS CALORIES\n"
     ]
    }
   ],
   "source": [
    "# zucaritas cereal https://world.openfoodfacts.org/product/7501008023624/zucaritas-kellogg-s\n",
    "# TODO: Uncomment the line below, fill in the values, and run the function\n",
    "get_labels(\"solid\", 40, 318, 0, 0, 872, 41)"
   ]
  },
  {
   "cell_type": "markdown",
   "id": "aab82c02",
   "metadata": {
    "papermill": {
     "duration": 0.006224,
     "end_time": "2025-02-25T22:01:59.232591",
     "exception": false,
     "start_time": "2025-02-25T22:01:59.226367",
     "status": "completed"
    },
    "tags": []
   },
   "source": [
    "Next, try [these mozzarella sticks](https://world-es.openfoodfacts.org/producto/0062325540104/mozzarella-cheese-sticks).  Here is [an image](https://storage.googleapis.com/kaggle-media/learn/images/rcdB7VH.png) with all of the nutritional information."
   ]
  },
  {
   "cell_type": "code",
   "execution_count": 13,
   "id": "dca43acb",
   "metadata": {
    "execution": {
     "iopub.execute_input": "2025-02-25T22:01:59.246905Z",
     "iopub.status.busy": "2025-02-25T22:01:59.246517Z",
     "iopub.status.idle": "2025-02-25T22:01:59.252413Z",
     "shell.execute_reply": "2025-02-25T22:01:59.250963Z"
    },
    "papermill": {
     "duration": 0.015324,
     "end_time": "2025-02-25T22:01:59.254313",
     "exception": false,
     "start_time": "2025-02-25T22:01:59.238989",
     "status": "completed"
    },
    "tags": []
   },
   "outputs": [
    {
     "name": "stdout",
     "output_type": "stream",
     "text": [
      "EXCESO GRASAS SATURADAS / EXCESS SATURATED FAT\n",
      "EXCESO GRASAS TRANS / EXCESS TRANS FAT\n",
      "EXCESO SODIO / EXCESS SODIUM\n",
      "EXCESO CALORÍAS / EXCESS CALORIES\n"
     ]
    }
   ],
   "source": [
    "# mozzarella sticks https://world-es.openfoodfacts.org/producto/0062325540104/mozzarella-cheese-sticks\n",
    "# TODO: Uncomment the line below, fill in the values, and run the function\n",
    "get_labels(\"solid\",21, 68, 3, 0.2, 208, 0)"
   ]
  },
  {
   "cell_type": "markdown",
   "id": "765e0b5b",
   "metadata": {
    "papermill": {
     "duration": 0.006241,
     "end_time": "2025-02-25T22:01:59.267231",
     "exception": false,
     "start_time": "2025-02-25T22:01:59.260990",
     "status": "completed"
    },
    "tags": []
   },
   "source": [
    "Feel free to skip to the end of the notebook now and run `q5.check()` to complete the exercise.  If you want to try more foods, \n",
    "- try [these cookies](https://world.openfoodfacts.org/product/0069700118545/biscuits-au-sucre-pretraches).  Here is [an image](https://storage.googleapis.com/kaggle-media/learn/images/2Bc271o.png) with all of the nutritional information.\n",
    "- try [this soda](https://world-es.openfoodfacts.org/producto/0078000113464/orange-soda-sunkist).  Here is [an image](https://storage.googleapis.com/kaggle-media/learn/images/RsBYa8E.png) with all of the nutritional information.\n",
    "\n",
    "Use the two code cells below for this."
   ]
  },
  {
   "cell_type": "code",
   "execution_count": 14,
   "id": "35d19567",
   "metadata": {
    "execution": {
     "iopub.execute_input": "2025-02-25T22:01:59.281879Z",
     "iopub.status.busy": "2025-02-25T22:01:59.281531Z",
     "iopub.status.idle": "2025-02-25T22:01:59.286799Z",
     "shell.execute_reply": "2025-02-25T22:01:59.285531Z"
    },
    "papermill": {
     "duration": 0.014817,
     "end_time": "2025-02-25T22:01:59.288767",
     "exception": false,
     "start_time": "2025-02-25T22:01:59.273950",
     "status": "completed"
    },
    "tags": []
   },
   "outputs": [
    {
     "name": "stdout",
     "output_type": "stream",
     "text": [
      "EXCESO AZÚCARES / EXCESS SUGAR\n",
      "EXCESO GRASAS SATURADAS / EXCESS SATURATED FAT\n",
      "EXCESO CALORÍAS / EXCESS CALORIES\n"
     ]
    }
   ],
   "source": [
    "# pillsbury cookies https://world.openfoodfacts.org/product/0069700118545/biscuits-au-sucre-pretraches\n",
    "# TODO: Uncomment the line below, fill in the values, and run the function\n",
    "get_labels(\"solid\", 30, 120, 1.5, 0.1, 110, 9)"
   ]
  },
  {
   "cell_type": "code",
   "execution_count": 15,
   "id": "6d91a69b",
   "metadata": {
    "execution": {
     "iopub.execute_input": "2025-02-25T22:01:59.303421Z",
     "iopub.status.busy": "2025-02-25T22:01:59.303039Z",
     "iopub.status.idle": "2025-02-25T22:01:59.307724Z",
     "shell.execute_reply": "2025-02-25T22:01:59.306443Z"
    },
    "papermill": {
     "duration": 0.014068,
     "end_time": "2025-02-25T22:01:59.309628",
     "exception": false,
     "start_time": "2025-02-25T22:01:59.295560",
     "status": "completed"
    },
    "tags": []
   },
   "outputs": [
    {
     "name": "stdout",
     "output_type": "stream",
     "text": [
      "EXCESO AZÚCARES / EXCESS SUGAR\n"
     ]
    }
   ],
   "source": [
    "# sunkist orange soda https://world-es.openfoodfacts.org/producto/0078000113464/orange-soda-sunkist\n",
    "# TODO: Uncomment the line below, fill in the values, and run the function\n",
    "get_labels(\"liquid\", 355, 160, 0, 0, 65, 44)"
   ]
  },
  {
   "cell_type": "markdown",
   "id": "67cd26e3",
   "metadata": {
    "papermill": {
     "duration": 0.006713,
     "end_time": "2025-02-25T22:01:59.323335",
     "exception": false,
     "start_time": "2025-02-25T22:01:59.316622",
     "status": "completed"
    },
    "tags": []
   },
   "source": [
    "Once you have finished investigating the food items in this question, run the final code cell to get credit for completing this problem."
   ]
  },
  {
   "cell_type": "code",
   "execution_count": 16,
   "id": "2036bc58",
   "metadata": {
    "execution": {
     "iopub.execute_input": "2025-02-25T22:01:59.338425Z",
     "iopub.status.busy": "2025-02-25T22:01:59.338048Z",
     "iopub.status.idle": "2025-02-25T22:01:59.345892Z",
     "shell.execute_reply": "2025-02-25T22:01:59.344704Z"
    },
    "papermill": {
     "duration": 0.017528,
     "end_time": "2025-02-25T22:01:59.347830",
     "exception": false,
     "start_time": "2025-02-25T22:01:59.330302",
     "status": "completed"
    },
    "tags": []
   },
   "outputs": [
    {
     "data": {
      "application/javascript": [
       "parent.postMessage({\"jupyterEvent\": \"custom.exercise_interaction\", \"data\": {\"outcomeType\": 1, \"valueTowardsCompletion\": 0.2, \"interactionType\": 1, \"questionType\": 2, \"questionId\": \"5_GetLabels\", \"learnToolsVersion\": \"0.3.4\", \"failureMessage\": \"\", \"exceptionClass\": \"\", \"trace\": \"\"}}, \"*\")"
      ],
      "text/plain": [
       "<IPython.core.display.Javascript object>"
      ]
     },
     "metadata": {},
     "output_type": "display_data"
    },
    {
     "data": {
      "text/markdown": [
       "<span style=\"color:#33cc33\">Once you have determined the labels for all of the food items, you're ready to move on to the next lesson!</span>"
      ],
      "text/plain": [
       "Once you have determined the labels for all of the food items, you're ready to move on to the next lesson!"
      ]
     },
     "metadata": {},
     "output_type": "display_data"
    }
   ],
   "source": [
    "# Get credit for completing the problem\n",
    "q5.check()"
   ]
  },
  {
   "cell_type": "markdown",
   "id": "b4186fbb",
   "metadata": {
    "papermill": {
     "duration": 0.006958,
     "end_time": "2025-02-25T22:01:59.362053",
     "exception": false,
     "start_time": "2025-02-25T22:01:59.355095",
     "status": "completed"
    },
    "tags": []
   },
   "source": [
    "# Keep going\n",
    "\n",
    "Continue to the next lesson to **[learn about Python lists](https://www.kaggle.com/alexisbcook/intro-to-lists)**."
   ]
  },
  {
   "cell_type": "markdown",
   "id": "75d7e431",
   "metadata": {
    "papermill": {
     "duration": 0.006642,
     "end_time": "2025-02-25T22:01:59.375720",
     "exception": false,
     "start_time": "2025-02-25T22:01:59.369078",
     "status": "completed"
    },
    "tags": []
   },
   "source": [
    "---\n",
    "\n",
    "\n",
    "\n",
    "\n",
    "*Have questions or comments? Visit the [course discussion forum](https://www.kaggle.com/learn/intro-to-programming/discussion) to chat with other learners.*"
   ]
  }
 ],
 "metadata": {
  "kaggle": {
   "accelerator": "none",
   "dataSources": [],
   "isGpuEnabled": false,
   "isInternetEnabled": false,
   "language": "python",
   "sourceType": "notebook"
  },
  "kernelspec": {
   "display_name": "Python 3",
   "language": "python",
   "name": "python3"
  },
  "language_info": {
   "codemirror_mode": {
    "name": "ipython",
    "version": 3
   },
   "file_extension": ".py",
   "mimetype": "text/x-python",
   "name": "python",
   "nbconvert_exporter": "python",
   "pygments_lexer": "ipython3",
   "version": "3.10.12"
  },
  "papermill": {
   "default_parameters": {},
   "duration": 5.372862,
   "end_time": "2025-02-25T22:02:00.004468",
   "environment_variables": {},
   "exception": null,
   "input_path": "__notebook__.ipynb",
   "output_path": "__notebook__.ipynb",
   "parameters": {},
   "start_time": "2025-02-25T22:01:54.631606",
   "version": "2.6.0"
  }
 },
 "nbformat": 4,
 "nbformat_minor": 5
}
